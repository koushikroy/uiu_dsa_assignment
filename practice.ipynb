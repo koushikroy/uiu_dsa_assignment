{
 "cells": [
  {
   "cell_type": "code",
   "execution_count": 16,
   "metadata": {},
   "outputs": [],
   "source": [
    "# ASSIGNMENT\n",
    "# Q2: THE SECRET MAGIC TRIP\n",
    "# Marvel is a land with N cities (numbered 1 through N) connected by M bidirectional roads. Dr. Strange\n",
    "# is on a mission to spread a secret Magic. He has a sequence A1,A2,…,AK and he must visit cities in\n",
    "# the following way: he starts in the city A1, travels to the city A2, then travels from there to the city A3 and\n",
    "# so on until he reaches the city AK. Note that a city may appear in the sequence A for multiple times,\n",
    "# but Ai ≠ Ai+1 for each valid i. When travelling between two cities, Dr. Strange always follows one of the\n",
    "# shortest paths between them (but not necessarily the same one if he travels between them again).\n",
    "# The government is trying to track which cities are targeted by Dr. Strange. However, they do not know\n",
    "# the sequence A. Instead, they have tracked Dr. Strange's movement as a sequence B1, B2…,BL of\n",
    "# cities visited by him during his mission. Formally, B1=A1 is the city where Dr. Strange starts, then for\n",
    "# each valid i, he moves from the city Bi to the city Bi+1 using the direct road between them and finally,\n",
    "# he ends his mission in the city BL=AK; Dr. Strange's sequence A is a subsequence of B, since the\n",
    "# sequence B also contains all shortest paths which Dr. Strange followed. It is guaranteed that there is\n",
    "# a direct road between cities Bi and Bi+1 for each valid i.\n",
    "# Help the government of Marvel find the minimum possible number of targeted cities, i.e. the minimum\n",
    "# possible value of K for a sequence A that corresponds to the given sequence B, or determine that no\n",
    "# such sequence A exists.\n",
    "# Input: The first line of the input contains a single integer T denoting the number of test cases. The\n",
    "# description of T test cases follows.\n",
    "# ➢ The first line of each test case contains three space-separated integers N, M and L.\n",
    "# ➢ The second line contains L space-separated integers B1, B2…,BL\n",
    "# ➢ Each of the following M lines contains three space-separated\n",
    "# integers u, v and w describing a road between cities u and v with length w.\n",
    "# Output: For each test case, print a single line containing one integer ― the minimum\n",
    "# possible K, or −1 if a valid sequence A does not exist.\n",
    "# Input:\n",
    "# 3\n",
    "# 3 3 6\n",
    "# 1 2 3 1 2 3\n",
    "# 1 2 1\n",
    "# 2 3 1\n",
    "# 3 1 1\n",
    "# 4 4 9\n",
    "# 1 2 3 4 1 2 3 4 1\n",
    "# 1 2 1\n",
    "# 2 3 1\n",
    "# 3 4 1\n",
    "# 4 1 1\n",
    "# 3 3 2\n",
    "# 1 2\n",
    "# 1 2 3\n",
    "# 2 3 1\n",
    "# 3 1 1\n",
    "# Output:\n",
    "# 6\n",
    "# 5\n",
    "# -1"
   ]
  },
  {
   "cell_type": "code",
   "execution_count": 1,
   "metadata": {},
   "outputs": [],
   "source": [
    "\n",
    "\n",
    "\n"
   ]
  }
 ],
 "metadata": {
  "kernelspec": {
   "display_name": "base",
   "language": "python",
   "name": "python3"
  },
  "language_info": {
   "codemirror_mode": {
    "name": "ipython",
    "version": 3
   },
   "file_extension": ".py",
   "mimetype": "text/x-python",
   "name": "python",
   "nbconvert_exporter": "python",
   "pygments_lexer": "ipython3",
   "version": "3.9.12"
  },
  "orig_nbformat": 4
 },
 "nbformat": 4,
 "nbformat_minor": 2
}
