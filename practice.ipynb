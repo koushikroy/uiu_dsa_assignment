{
 "cells": [
  {
   "cell_type": "code",
   "execution_count": 10,
   "metadata": {},
   "outputs": [],
   "source": [
    "from queue import PriorityQueue\n",
    "\n",
    "def dijkstra(graph, source, destination):\n",
    "    N = len(graph)\n",
    "    distances = {v: float('inf') for v in range(1, N+1)}\n",
    "    distances[source] = 0\n",
    "    pq = PriorityQueue()\n",
    "    pq.put((0, source))\n",
    "\n",
    "    while not pq.empty():\n",
    "        (dist, current_vertex) = pq.get()\n",
    "\n",
    "        for neighbor, weight in graph[current_vertex]:\n",
    "            new_cost = dist + weight\n",
    "            if new_cost < distances[neighbor]:\n",
    "                distances[neighbor] = new_cost\n",
    "                pq.put((new_cost, neighbor))\n",
    "\n",
    "    return distances[destination]"
   ]
  },
  {
   "cell_type": "code",
   "execution_count": 16,
   "metadata": {},
   "outputs": [],
   "source": [
    "# 3 3 6\n",
    "# Numner of Node\n",
    "N = 3\n",
    "# Numner of Edge\n",
    "M = 3\n",
    "# Numner of Visited City\n",
    "L = 6\n",
    "# List of Visted City\n",
    "B = [1, 2, 3, 1, 2, 3]\n",
    "\n",
    "# Graph Representation\n",
    "# Node, Edge and Weight of the graph\n",
    "# 1 2 1\n",
    "# 2 3 1\n",
    "# 3 1 1\n",
    "# Python list representation\n",
    "roads = [(1, 2, 1), (2, 3, 1), (3, 1, 1)]\n",
    "# Create a graph to represent the city map with junctions and roads.\n",
    "graph = {i: [] for i in range(1, N+1)}\n",
    "# Populate the graph with road information.\n",
    "for road in roads:\n",
    "    i, j, lij = road\n",
    "    graph[i].append((j, lij))\n",
    "    graph[j].append((i, lij))\n",
    "# Now graph looks like this: {1: [(2, 1), (3, 1)], 2: [(1, 1), (3, 1)], 3: [(2, 1), (1, 1)]}"
   ]
  },
  {
   "cell_type": "code",
   "execution_count": 17,
   "metadata": {},
   "outputs": [
    {
     "data": {
      "text/plain": [
       "{1: [(2, 1), (3, 1)], 2: [(1, 1), (3, 1)], 3: [(2, 1), (1, 1)]}"
      ]
     },
     "execution_count": 17,
     "metadata": {},
     "output_type": "execute_result"
    }
   ],
   "source": [
    "graph"
   ]
  },
  {
   "cell_type": "code",
   "execution_count": 18,
   "metadata": {},
   "outputs": [
    {
     "data": {
      "text/plain": [
       "1"
      ]
     },
     "execution_count": 18,
     "metadata": {},
     "output_type": "execute_result"
    }
   ],
   "source": [
    "# Example usage:\n",
    "dijkstra(graph, 1, 3)  # Returns 1"
   ]
  },
  {
   "cell_type": "code",
   "execution_count": 9,
   "metadata": {},
   "outputs": [
    {
     "data": {
      "text/plain": [
       "{1, 2}"
      ]
     },
     "execution_count": 9,
     "metadata": {},
     "output_type": "execute_result"
    }
   ],
   "source": [
    "targeted = set()\n",
    "for i in range(L):\n",
    "\tleft = i\n",
    "\tright = i+1\n",
    "\tshortest_distance = dijkstra(graph, B[left], B[right])\n",
    "\t"
   ]
  }
 ],
 "metadata": {
  "kernelspec": {
   "display_name": "base",
   "language": "python",
   "name": "python3"
  },
  "language_info": {
   "codemirror_mode": {
    "name": "ipython",
    "version": 3
   },
   "file_extension": ".py",
   "mimetype": "text/x-python",
   "name": "python",
   "nbconvert_exporter": "python",
   "pygments_lexer": "ipython3",
   "version": "3.9.12"
  },
  "orig_nbformat": 4
 },
 "nbformat": 4,
 "nbformat_minor": 2
}
